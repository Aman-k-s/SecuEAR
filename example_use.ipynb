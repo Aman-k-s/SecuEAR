{
 "cells": [
  {
   "cell_type": "code",
   "execution_count": null,
   "id": "d30aaf65",
   "metadata": {},
   "outputs": [],
   "source": [
    "from matcher import match\n",
    "\n",
    "\n"
   ]
  },
  {
   "cell_type": "code",
   "execution_count": null,
   "id": "0fe5d68e",
   "metadata": {},
   "outputs": [],
   "source": [
    "query_img = \"depth_maps/aman left.png\"\n",
    "db_folder = \"depth_maps\"\n",
    "threshold = 0.9\n",
    "\n",
    "results = match(query_img, db_folder, threshold)\n",
    "\n",
    "if results:\n",
    "    print(\"Matching images found:\")\n",
    "    for img, score in results:\n",
    "        print(f\"{img}: similarity = {score:.4f}\")\n",
    "else:\n",
    "    print(\"No good matches found.\")"
   ]
  },
  {
   "cell_type": "code",
   "execution_count": null,
   "id": "0502250d",
   "metadata": {},
   "outputs": [],
   "source": [
    "!jupyter nbconvert --to script example_use.ipynb"
   ]
  }
 ],
 "metadata": {
  "kernelspec": {
   "display_name": "Python 3 (ipykernel)",
   "language": "python",
   "name": "python3"
  },
  "language_info": {
   "codemirror_mode": {
    "name": "ipython",
    "version": 3
   },
   "file_extension": ".py",
   "mimetype": "text/x-python",
   "name": "python",
   "nbconvert_exporter": "python",
   "pygments_lexer": "ipython3",
   "version": "3.11.5"
  }
 },
 "nbformat": 4,
 "nbformat_minor": 5
}
