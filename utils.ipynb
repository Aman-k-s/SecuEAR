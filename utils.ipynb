{
 "cells": [
  {
   "cell_type": "code",
   "execution_count": null,
   "id": "af4d4a13",
   "metadata": {},
   "outputs": [],
   "source": [
    "import numpy as np\n",
    "import torch\n",
    "import torch.nn.functional as F\n",
    "from torchvision import transforms\n",
    "from PIL import Image\n",
    "import cv2"
   ]
  },
  {
   "cell_type": "markdown",
   "id": "ab42705d",
   "metadata": {},
   "source": [
    "## Load a grayscale image, convert to 3-channel and normalize.\n",
    "#### Returns: Tensor of shape (1, 3, 224, 224)"
   ]
  },
  {
   "cell_type": "code",
   "execution_count": 1,
   "id": "2974e0ec",
   "metadata": {},
   "outputs": [],
   "source": [
    "def preprocess_image(img_path):\n",
    "    img = cv2.imread(img_path, cv2.IMREAD_GRAYSCALE)\n",
    "    img = np.stack([img]*3, axis=-1)  # Convert to 3-channel\n",
    "    img = Image.fromarray(img.astype(np.uint8))\n",
    "\n",
    "    transform = transforms.Compose([\n",
    "        transforms.ToTensor(),  # Shape: (3, 224, 224)\n",
    "        transforms.Normalize(mean=[0.485, 0.456, 0.406],\n",
    "                             std=[0.229, 0.224, 0.225])\n",
    "    ])\n",
    "    return transform(img).unsqueeze(0)\n",
    "\n"
   ]
  },
  {
   "cell_type": "markdown",
   "id": "db9c9468",
   "metadata": {},
   "source": [
    "# Pass preprocessed image through MobileNetV2 and get feature embedding."
   ]
  },
  {
   "cell_type": "code",
   "execution_count": 2,
   "id": "35ceb1de",
   "metadata": {},
   "outputs": [],
   "source": [
    "def get_embedding(img_path, model):\n",
    "    model.eval()\n",
    "    with torch.no_grad():\n",
    "        tensor = preprocess_image(img_path)\n",
    "        embedding = model(tensor)\n",
    "    return embedding.squeeze(0)  # Shape: (1280,)\n"
   ]
  },
  {
   "cell_type": "code",
   "execution_count": 3,
   "id": "4a7d5e98",
   "metadata": {},
   "outputs": [],
   "source": [
    "def cosine_similarity(emb1, emb2):\n",
    "    return F.cosine_similarity(emb1.unsqueeze(0), emb2.unsqueeze(0)).item()"
   ]
  },
  {
   "cell_type": "code",
   "execution_count": 4,
   "id": "8b1541dd",
   "metadata": {},
   "outputs": [
    {
     "name": "stderr",
     "output_type": "stream",
     "text": [
      "[NbConvertApp] Converting notebook utils.ipynb to script\n",
      "[NbConvertApp] Writing 1192 bytes to utils.py\n"
     ]
    }
   ],
   "source": [
    "!jupyter nbconvert --to script utils.ipynb"
   ]
  },
  {
   "cell_type": "code",
   "execution_count": null,
   "id": "60b13c7c",
   "metadata": {},
   "outputs": [],
   "source": []
  }
 ],
 "metadata": {
  "kernelspec": {
   "display_name": "Python 3 (ipykernel)",
   "language": "python",
   "name": "python3"
  },
  "language_info": {
   "codemirror_mode": {
    "name": "ipython",
    "version": 3
   },
   "file_extension": ".py",
   "mimetype": "text/x-python",
   "name": "python",
   "nbconvert_exporter": "python",
   "pygments_lexer": "ipython3",
   "version": "3.11.5"
  }
 },
 "nbformat": 4,
 "nbformat_minor": 5
}
