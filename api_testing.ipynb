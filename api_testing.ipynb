{
 "cells": [
  {
   "cell_type": "code",
   "execution_count": 1,
   "id": "a60c6ed2",
   "metadata": {},
   "outputs": [
    {
     "name": "stdout",
     "output_type": "stream",
     "text": [
      "{'match': '0f4d6daf-2ea1-4273-921e-afbac469f2e5.png', 'similarity': 1.0}\n"
     ]
    }
   ],
   "source": [
    "import requests\n",
    "\n",
    "file_path = \"3D Scan of Ears/aman left.ply\"\n",
    "with open(file_path, \"rb\") as f:\n",
    "    response = requests.post(\"http://127.0.0.1:5000/upload\", files={\"file\": f})\n",
    "\n",
    "print(response.json())\n"
   ]
  },
  {
   "cell_type": "code",
   "execution_count": null,
   "id": "7e2f4257",
   "metadata": {},
   "outputs": [],
   "source": []
  }
 ],
 "metadata": {
  "kernelspec": {
   "display_name": "Python 3 (ipykernel)",
   "language": "python",
   "name": "python3"
  },
  "language_info": {
   "codemirror_mode": {
    "name": "ipython",
    "version": 3
   },
   "file_extension": ".py",
   "mimetype": "text/x-python",
   "name": "python",
   "nbconvert_exporter": "python",
   "pygments_lexer": "ipython3",
   "version": "3.11.5"
  }
 },
 "nbformat": 4,
 "nbformat_minor": 5
}
