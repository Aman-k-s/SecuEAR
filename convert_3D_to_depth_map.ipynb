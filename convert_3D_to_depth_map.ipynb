{
 "cells": [
  {
   "cell_type": "code",
   "execution_count": 1,
   "id": "c3098e9f",
   "metadata": {},
   "outputs": [
    {
     "name": "stdout",
     "output_type": "stream",
     "text": [
      "Jupyter environment detected. Enabling Open3D WebVisualizer.\n",
      "[Open3D INFO] WebRTC GUI backend enabled.\n",
      "[Open3D INFO] WebRTCWindowSystem: HTTP handshake server disabled.\n",
      "Processing: aman left.ply\n",
      "Processing: aman right.ply\n",
      "Processing: guransh 2 right.ply\n",
      "Processing: guransh 3 right.ply\n",
      "Processing: guransh left.ply\n",
      "Processing: guransh right.ply\n",
      "Processing: tuhin left.ply\n",
      "Processing: tuhin right.ply\n",
      "All files processed and saved in 'output/' folder.\n"
     ]
    }
   ],
   "source": [
    "import open3d as o3d\n",
    "import numpy as np\n",
    "import os\n",
    "import cv2\n",
    "\n",
    "INPUT_FOLDER = \"3D Scan of Ears\"\n",
    "OUTPUT_FOLDER = \"output\"\n",
    "OUTPUT_SIZE = (224, 224)\n",
    "\n",
    "os.makedirs(OUTPUT_FOLDER, exist_ok=True)\n",
    "\n",
    "def convert_ply_to_depth_map(ply_file_path):\n",
    "    pcd = o3d.io.read_point_cloud(ply_file_path)\n",
    "\n",
    "    # Create a visualizer in headless mode\n",
    "    vis = o3d.visualization.Visualizer()\n",
    "    vis.create_window(visible=False)\n",
    "    vis.add_geometry(pcd)\n",
    "\n",
    "    ctr = vis.get_view_control()\n",
    "    ctr.set_up([0, -1, 0])\n",
    "    ctr.set_front([0, 0, -1])\n",
    "    ctr.set_zoom(0.5)\n",
    "\n",
    "    vis.poll_events()\n",
    "    vis.update_renderer()\n",
    "\n",
    "    # Capture depth image\n",
    "    depth = vis.capture_depth_float_buffer(do_render=True)\n",
    "    depth_np = np.asarray(depth)\n",
    "\n",
    "    vis.destroy_window()\n",
    "\n",
    "    return depth_np\n",
    "\n",
    "def normalize_and_resize(depth_map, output_size=(224, 224)):\n",
    "    depth_map = depth_map - np.min(depth_map)\n",
    "    if np.max(depth_map) != 0:\n",
    "        depth_map = depth_map / np.max(depth_map)  # Normalize to [0, 1]\n",
    "\n",
    "    resized = cv2.resize(depth_map, output_size, interpolation=cv2.INTER_AREA)\n",
    "    return (resized * 255).astype(np.uint8)  # Convert to [0,255] grayscale\n",
    "\n",
    "def process_all_ply_files(input_folder, output_folder):\n",
    "    for file_name in os.listdir(input_folder):\n",
    "        if file_name.endswith(\".ply\"):\n",
    "            file_path = os.path.join(input_folder, file_name)\n",
    "            print(f\"Processing: {file_name}\")\n",
    "            try:\n",
    "                depth_map = convert_ply_to_depth_map(file_path)\n",
    "                processed = normalize_and_resize(depth_map, OUTPUT_SIZE)\n",
    "                output_name = os.path.splitext(file_name)[0] + \".png\"\n",
    "                cv2.imwrite(os.path.join(output_folder, output_name), processed)\n",
    "            except Exception as e:\n",
    "                print(f\"Failed to process {file_name}: {e}\")\n",
    "\n",
    "if __name__ == \"__main__\":\n",
    "    process_all_ply_files(INPUT_FOLDER, OUTPUT_FOLDER)\n",
    "    print(\"All files processed and saved in 'output/' folder.\")\n"
   ]
  },
  {
   "cell_type": "markdown",
   "id": "11e5f47d",
   "metadata": {},
   "source": [
    "# Verifying the .png Depth Maps"
   ]
  },
  {
   "cell_type": "code",
   "execution_count": 2,
   "id": "59a43028",
   "metadata": {},
   "outputs": [
    {
     "name": "stdout",
     "output_type": "stream",
     "text": [
      "Shape: (224, 224)\n",
      "Min: 0 Max: 253\n"
     ]
    }
   ],
   "source": [
    "import cv2\n",
    "depth_map = cv2.imread(\"depth_maps/aman left.png\", cv2.IMREAD_UNCHANGED)\n",
    "print(\"Shape:\", depth_map.shape)  # Should be (224, 224)\n",
    "print(\"Min:\", depth_map.min(), \"Max:\", depth_map.max())  # Should be in 0-255\n"
   ]
  },
  {
   "cell_type": "code",
   "execution_count": 3,
   "id": "9008773c",
   "metadata": {},
   "outputs": [
    {
     "name": "stdout",
     "output_type": "stream",
     "text": [
      "Shape: (224, 224)\n",
      "Min: 0 Max: 253\n"
     ]
    }
   ],
   "source": [
    "import cv2\n",
    "depth_map = cv2.imread(\"depth_maps/aman right.png\", cv2.IMREAD_UNCHANGED)\n",
    "print(\"Shape:\", depth_map.shape)  # Should be (224, 224)\n",
    "print(\"Min:\", depth_map.min(), \"Max:\", depth_map.max())  # Should be in 0-255\n"
   ]
  },
  {
   "cell_type": "code",
   "execution_count": 4,
   "id": "aa4b5821",
   "metadata": {},
   "outputs": [
    {
     "name": "stdout",
     "output_type": "stream",
     "text": [
      "Shape: (224, 224)\n",
      "Min: 0 Max: 254\n"
     ]
    }
   ],
   "source": [
    "import cv2\n",
    "depth_map = cv2.imread(\"depth_maps/guransh 2 right.png\", cv2.IMREAD_UNCHANGED)\n",
    "print(\"Shape:\", depth_map.shape)  # Should be (224, 224)\n",
    "print(\"Min:\", depth_map.min(), \"Max:\", depth_map.max())  # Should be in 0-255\n"
   ]
  },
  {
   "cell_type": "code",
   "execution_count": 5,
   "id": "88d2091c",
   "metadata": {},
   "outputs": [
    {
     "name": "stdout",
     "output_type": "stream",
     "text": [
      "Shape: (224, 224)\n",
      "Min: 0 Max: 254\n"
     ]
    }
   ],
   "source": [
    "import cv2\n",
    "depth_map = cv2.imread(\"depth_maps/guransh 3 right.png\", cv2.IMREAD_UNCHANGED)\n",
    "print(\"Shape:\", depth_map.shape)  # Should be (224, 224)\n",
    "print(\"Min:\", depth_map.min(), \"Max:\", depth_map.max())  # Should be in 0-255\n"
   ]
  },
  {
   "cell_type": "code",
   "execution_count": 6,
   "id": "90b474cd",
   "metadata": {},
   "outputs": [
    {
     "name": "stdout",
     "output_type": "stream",
     "text": [
      "Shape: (224, 224)\n",
      "Min: 0 Max: 254\n"
     ]
    }
   ],
   "source": [
    "import cv2\n",
    "depth_map = cv2.imread(\"depth_maps/guransh left.png\", cv2.IMREAD_UNCHANGED)\n",
    "print(\"Shape:\", depth_map.shape)  # Should be (224, 224)\n",
    "print(\"Min:\", depth_map.min(), \"Max:\", depth_map.max())  # Should be in 0-255\n"
   ]
  },
  {
   "cell_type": "code",
   "execution_count": 7,
   "id": "45f221c7",
   "metadata": {},
   "outputs": [
    {
     "name": "stdout",
     "output_type": "stream",
     "text": [
      "Shape: (224, 224)\n",
      "Min: 0 Max: 254\n"
     ]
    }
   ],
   "source": [
    "import cv2\n",
    "depth_map = cv2.imread(\"depth_maps/guransh right.png\", cv2.IMREAD_UNCHANGED)\n",
    "print(\"Shape:\", depth_map.shape)  # Should be (224, 224)\n",
    "print(\"Min:\", depth_map.min(), \"Max:\", depth_map.max())  # Should be in 0-255\n"
   ]
  },
  {
   "cell_type": "code",
   "execution_count": 8,
   "id": "8cc34ee6",
   "metadata": {},
   "outputs": [
    {
     "name": "stdout",
     "output_type": "stream",
     "text": [
      "Shape: (224, 224)\n",
      "Min: 0 Max: 252\n"
     ]
    }
   ],
   "source": [
    "import cv2\n",
    "depth_map = cv2.imread(\"depth_maps/tuhin left.png\", cv2.IMREAD_UNCHANGED)\n",
    "print(\"Shape:\", depth_map.shape)  # Should be (224, 224)\n",
    "print(\"Min:\", depth_map.min(), \"Max:\", depth_map.max())  # Should be in 0-255"
   ]
  },
  {
   "cell_type": "code",
   "execution_count": 9,
   "id": "b68e2268",
   "metadata": {},
   "outputs": [
    {
     "name": "stdout",
     "output_type": "stream",
     "text": [
      "Shape: (224, 224)\n",
      "Min: 0 Max: 254\n"
     ]
    }
   ],
   "source": [
    "import cv2\n",
    "depth_map = cv2.imread(\"depth_maps/tuhin right.png\", cv2.IMREAD_UNCHANGED)\n",
    "print(\"Shape:\", depth_map.shape)  # Should be (224, 224)\n",
    "print(\"Min:\", depth_map.min(), \"Max:\", depth_map.max())  # Should be in 0-255"
   ]
  },
  {
   "cell_type": "code",
   "execution_count": 10,
   "id": "a64c0fac",
   "metadata": {},
   "outputs": [
    {
     "name": "stderr",
     "output_type": "stream",
     "text": [
      "usage: jupyter [-h] [--version] [--config-dir] [--data-dir] [--runtime-dir]\n",
      "               [--paths] [--json] [--debug]\n",
      "               [subcommand]\n",
      "\n",
      "Jupyter: Interactive Computing\n",
      "\n",
      "positional arguments:\n",
      "  subcommand     the subcommand to launch\n",
      "\n",
      "options:\n",
      "  -h, --help     show this help message and exit\n",
      "  --version      show the versions of core jupyter packages and exit\n",
      "  --config-dir   show Jupyter config dir\n",
      "  --data-dir     show Jupyter data dir\n",
      "  --runtime-dir  show Jupyter runtime dir\n",
      "  --paths        show all Jupyter paths. Add --json for machine-readable\n",
      "                 format.\n",
      "  --json         output paths as machine-readable json\n",
      "  --debug        output debug information about paths\n",
      "\n",
      "Available subcommands: bundlerextension console dejavu events execute fileid\n",
      "kernel kernelspec lab labextension labhub migrate nbclassic nbconvert\n",
      "nbextension notebook qtconsole run script server serverextension troubleshoot\n",
      "trust\n",
      "\n",
      "Jupyter command `jupyter-convert_3D_to_depth_map.ipynb` not found.\n"
     ]
    }
   ],
   "source": [
    "!jupyter convert_3D_to_depth_map.ipynb"
   ]
  },
  {
   "cell_type": "code",
   "execution_count": null,
   "id": "a39d7092",
   "metadata": {},
   "outputs": [],
   "source": []
  }
 ],
 "metadata": {
  "kernelspec": {
   "display_name": "Python 3 (ipykernel)",
   "language": "python",
   "name": "python3"
  },
  "language_info": {
   "codemirror_mode": {
    "name": "ipython",
    "version": 3
   },
   "file_extension": ".py",
   "mimetype": "text/x-python",
   "name": "python",
   "nbconvert_exporter": "python",
   "pygments_lexer": "ipython3",
   "version": "3.11.5"
  }
 },
 "nbformat": 4,
 "nbformat_minor": 5
}
