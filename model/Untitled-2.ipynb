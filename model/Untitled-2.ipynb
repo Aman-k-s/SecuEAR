{
 "cells": [
  {
   "cell_type": "code",
   "execution_count": null,
   "id": "f33eb74b",
   "metadata": {},
   "outputs": [
    {
     "name": "stdout",
     "output_type": "stream",
     "text": [
      "\\n--- Evaluation Results ---\n",
      "Accuracy: 1.0\n",
      "Confusion Matrix:\\n [[2]]\n",
      "Classification Report:\\n               precision    recall  f1-score   support\n",
      "\n",
      "     guransh       1.00      1.00      1.00         2\n",
      "\n",
      "    accuracy                           1.00         2\n",
      "   macro avg       1.00      1.00      1.00         2\n",
      "weighted avg       1.00      1.00      1.00         2\n",
      "\n",
      "\\n--- Predictions on Test Images ---\n",
      "Actual: guransh_test.png → Predicted: guransh (Confidence: 0.51)\n",
      "Actual: guransh_test.png → Predicted: guransh (Confidence: 0.49)\n",
      "\\nModel saved to svm_model_hog.pkl\n"
     ]
    },
    {
     "name": "stderr",
     "output_type": "stream",
     "text": [
      "c:\\Users\\aks21\\AppData\\Local\\Programs\\Python\\Python312\\Lib\\site-packages\\sklearn\\metrics\\_classification.py:409: UserWarning: A single label was found in 'y_true' and 'y_pred'. For the confusion matrix to have the correct shape, use the 'labels' parameter to pass all known labels.\n",
      "  warnings.warn(\n"
     ]
    }
   ],
   "source": [
    "import os\n",
    "import cv2\n",
    "import numpy as np\n",
    "from sklearn.svm import SVC\n",
    "from sklearn.preprocessing import LabelEncoder\n",
    "from sklearn.metrics import accuracy_score, confusion_matrix, classification_report\n",
    "from skimage.feature import hog \n",
    "import joblib\n",
    "\n",
    "# HOG feature extractor\n",
    "def extract_hog(image):\n",
    "    features = hog(image, orientations=8, pixels_per_cell=(16, 16),\n",
    "                   cells_per_block=(1, 1), visualize=False)\n",
    "    return features\n",
    "\n",
    "def load_data(folder):\n",
    "    X = []\n",
    "    y = []\n",
    "    for filename in os.listdir(folder):\n",
    "        if filename.endswith(\".png\"):\n",
    "            path = os.path.join(folder, filename)\n",
    "            img = cv2.imread(path, cv2.IMREAD_GRAYSCALE)\n",
    "            img = cv2.resize(img, (224, 224))\n",
    "            features = extract_hog(img) \n",
    "            X.append(features)\n",
    "            label = filename.split(\"_\")[0]\n",
    "            y.append(label)\n",
    "    return np.array(X), np.array(y)\n",
    "\n",
    "\n",
    "def train_and_evaluate():\n",
    "    X_train, y_train = load_data(\"train/\")\n",
    "    X_test, y_test = load_data(\"test/\")\n",
    "\n",
    "    le = LabelEncoder()\n",
    "    y_train_enc = le.fit_transform(y_train)\n",
    "    y_test_enc = le.transform(y_test)\n",
    "\n",
    "    model = SVC(kernel='rbf', probability=True)\n",
    "    model.fit(X_train, y_train_enc)\n",
    "\n",
    "    y_pred = model.predict(X_test)\n",
    "\n",
    "    print(\"\\\\n--- Evaluation Results ---\")\n",
    "    print(\"Accuracy:\", accuracy_score(y_test_enc, y_pred))\n",
    "    print(\"Confusion Matrix:\\\\n\", confusion_matrix(y_test_enc, y_pred))\n",
    "    print(\"Classification Report:\\\\n\", classification_report(\n",
    "        y_test_enc, y_pred,\n",
    "        labels=np.unique(y_pred),\n",
    "        target_names=le.inverse_transform(np.unique(y_pred))\n",
    "    ))\n",
    "\n",
    "    print(\"\\\\n--- Predictions on Test Images ---\")\n",
    "    probs = model.predict_proba(X_test)\n",
    "    for i in range(len(y_test)):\n",
    "        pred_label = le.inverse_transform([y_pred[i]])[0]\n",
    "        confidence = np.max(probs[i])\n",
    "        print(f\"Actual: {y_test[i]}_test.png → Predicted: {pred_label} (Confidence: {confidence:.2f})\")\n",
    "\n",
    "    joblib.dump((model, le), \"svm_model_hog.pkl\")\n",
    "    print(\"\\\\nModel saved to svm_model_hog.pkl\")\n",
    "\n",
    "if __name__ == \"__main__\":\n",
    "    train_and_evaluate()\n"
   ]
  },
  {
   "cell_type": "code",
   "execution_count": 5,
   "id": "a345c8a4",
   "metadata": {},
   "outputs": [
    {
     "name": "stdout",
     "output_type": "stream",
     "text": [
      " Predicted User: aman\n",
      "Confidence Score: 0.52\n"
     ]
    }
   ],
   "source": [
    "from match_user import match_user\n",
    "\n",
    "image_path = \"depth_maps/aman_left.png\"\n",
    "\n",
    "# Call the function\n",
    "try:\n",
    "    user, confidence = match_user(image_path)\n",
    "    print(f\" Predicted User: {user}\")\n",
    "    print(f\"Confidence Score: {confidence}\")\n",
    "except Exception as e:\n",
    "    print(\"Error:\", e)\n"
   ]
  }
 ],
 "metadata": {
  "kernelspec": {
   "display_name": "Python 3",
   "language": "python",
   "name": "python3"
  },
  "language_info": {
   "codemirror_mode": {
    "name": "ipython",
    "version": 3
   },
   "file_extension": ".py",
   "mimetype": "text/x-python",
   "name": "python",
   "nbconvert_exporter": "python",
   "pygments_lexer": "ipython3",
   "version": "3.12.5"
  }
 },
 "nbformat": 4,
 "nbformat_minor": 5
}
