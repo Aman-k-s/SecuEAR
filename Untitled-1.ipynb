{
 "cells": [
  {
   "cell_type": "code",
   "execution_count": null,
   "id": "3d3e3d3f",
   "metadata": {},
   "outputs": [],
   "source": []
  },
  {
   "cell_type": "code",
   "execution_count": null,
   "id": "64c8ae46",
   "metadata": {},
   "outputs": [
    {
     "name": "stdout",
     "output_type": "stream",
     "text": [
      "✅ Saved: depth_maps\\aman_left.png\n",
      "✅ Saved: depth_maps\\aman_right.png\n",
      "✅ Saved: depth_maps\\guransh_left.png\n",
      "✅ Saved: depth_maps\\guransh_right.png\n",
      "✅ Saved: depth_maps\\guransh_test1.png\n",
      "✅ Saved: depth_maps\\guransh_test2.png\n",
      "✅ Saved: depth_maps\\tuhin_left.png\n",
      "✅ Saved: depth_maps\\tuhin_right.png\n"
     ]
    }
   ],
   "source": [
    "import open3d as o3d\n",
    "import numpy as np\n",
    "import cv2\n",
    "import os\n",
    "\n",
    "def generate_depth_map(filename, width=224, height=224):\n",
    "    input_path = os.path.join(\"ply_scans\", filename)\n",
    "    output_filename = filename.replace(\".ply\", \".png\")\n",
    "    output_path = os.path.join(\"depth_maps\", output_filename)\n",
    "\n",
    "    mesh = o3d.io.read_triangle_mesh(input_path)\n",
    "    if not mesh.has_triangles():\n",
    "        print(f\" Skipped: {filename}\")\n",
    "        return\n",
    "\n",
    "    mesh.compute_vertex_normals()\n",
    "\n",
    "    vis = o3d.visualization.Visualizer()\n",
    "    vis.create_window(visible=False, width=width, height=height)\n",
    "    vis.add_geometry(mesh)\n",
    "\n",
    "    # Updated viewpoint\n",
    "    ctr = vis.get_view_control()\n",
    "    bbox = mesh.get_axis_aligned_bounding_box()\n",
    "    center = bbox.get_center()\n",
    "    extent = bbox.get_extent()\n",
    "\n",
    "    cam_pos = center + [1.0 * extent[0], 0, 0]  # Adjust distance\n",
    "    ctr.set_lookat(center)\n",
    "    ctr.set_front([1, 0, 0])  # side view\n",
    "    ctr.set_up([0, 1, 0])\n",
    "    ctr.set_zoom(0.6)  # Moderate zoom\n",
    "\n",
    "    vis.poll_events()\n",
    "    vis.update_renderer()\n",
    "\n",
    "    depth = vis.capture_depth_float_buffer()\n",
    "    depth_np = np.asarray(depth)\n",
    "\n",
    "    # Normalize and invert\n",
    "    depth_norm = cv2.normalize(depth_np, None, 0, 255, cv2.NORM_MINMAX)\n",
    "    depth_uint8 = depth_norm.astype(np.uint8)\n",
    "    depth_uint8 = cv2.bitwise_not(depth_uint8)\n",
    "\n",
    "    os.makedirs(\"depth_maps\", exist_ok=True)\n",
    "    cv2.imwrite(output_path, depth_uint8)\n",
    "    print(f\"Saved: {output_path}\")\n",
    "\n",
    "    vis.destroy_window()\n",
    "\n",
    "if __name__ == \"__main__\":\n",
    "    os.makedirs(\"depth_maps\", exist_ok=True)\n",
    "    for file in os.listdir(\"ply_scans\"):\n",
    "        if file.endswith(\".ply\"):\n",
    "            generate_depth_map(file)\n"
   ]
  }
 ],
 "metadata": {
  "kernelspec": {
   "display_name": "Python 3",
   "language": "python",
   "name": "python3"
  },
  "language_info": {
   "codemirror_mode": {
    "name": "ipython",
    "version": 3
   },
   "file_extension": ".py",
   "mimetype": "text/x-python",
   "name": "python",
   "nbconvert_exporter": "python",
   "pygments_lexer": "ipython3",
   "version": "3.12.5"
  }
 },
 "nbformat": 4,
 "nbformat_minor": 5
}
