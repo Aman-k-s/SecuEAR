{
 "cells": [
  {
   "cell_type": "code",
   "execution_count": null,
   "id": "8247a7f6",
   "metadata": {},
   "outputs": [],
   "source": [
    "import os\n",
    "import torch\n",
    "import torch.nn as nn\n",
    "from torchvision import models\n",
    "from utils import get_embedding, cosine_similarity"
   ]
  },
  {
   "cell_type": "markdown",
   "id": "13eba3cc",
   "metadata": {},
   "source": [
    "# Load MobileNetV2"
   ]
  },
  {
   "cell_type": "code",
   "execution_count": null,
   "id": "e98bfa36",
   "metadata": {},
   "outputs": [],
   "source": [
    "mobilenet = models.mobilenet_v2(pretrained=True)\n",
    "mobilenet.classifier = nn.Identity()  # Remove classifier head\n",
    "mobilenet.eval()"
   ]
  },
  {
   "cell_type": "markdown",
   "id": "53707bc5",
   "metadata": {},
   "source": [
    "### Match a query image against all depth maps in db_folder_path.\n",
    "##### Returns: list of (filename, similarity) above threshold"
   ]
  },
  {
   "cell_type": "code",
   "execution_count": 3,
   "id": "a6fe9f0a",
   "metadata": {},
   "outputs": [],
   "source": [
    "def match(query_img_path, db_folder_path, threshold=0.9):\n",
    "    \"\"\"\n",
    "    Match a query image against all depth maps in db_folder_path.\n",
    "    Returns: list of (filename, similarity) above threshold\n",
    "    \"\"\"\n",
    "    query_embedding = get_embedding(query_img_path, mobilenet)\n",
    "    matches = []\n",
    "\n",
    "    for file in os.listdir(db_folder_path):\n",
    "        if file.endswith(\".png\"):\n",
    "            file_path = os.path.join(db_folder_path, file)\n",
    "            db_embedding = get_embedding(file_path, mobilenet)\n",
    "            score = cosine_similarity(query_embedding, db_embedding)\n",
    "            if score >= threshold:\n",
    "                matches.append((file, score))\n",
    "\n",
    "    return sorted(matches, key=lambda x: x[1], reverse=True)"
   ]
  },
  {
   "cell_type": "code",
   "execution_count": 1,
   "id": "d19043c7",
   "metadata": {},
   "outputs": [
    {
     "name": "stderr",
     "output_type": "stream",
     "text": [
      "[NbConvertApp] Converting notebook matcher.ipynb to script\n",
      "[NbConvertApp] Writing 1195 bytes to matcher.py\n"
     ]
    }
   ],
   "source": [
    "!jupyter nbconvert --to script matcher.ipynb\n"
   ]
  },
  {
   "cell_type": "code",
   "execution_count": null,
   "id": "9d39385a",
   "metadata": {},
   "outputs": [],
   "source": []
  }
 ],
 "metadata": {
  "kernelspec": {
   "display_name": "Python 3 (ipykernel)",
   "language": "python",
   "name": "python3"
  },
  "language_info": {
   "codemirror_mode": {
    "name": "ipython",
    "version": 3
   },
   "file_extension": ".py",
   "mimetype": "text/x-python",
   "name": "python",
   "nbconvert_exporter": "python",
   "pygments_lexer": "ipython3",
   "version": "3.11.5"
  }
 },
 "nbformat": 4,
 "nbformat_minor": 5
}
