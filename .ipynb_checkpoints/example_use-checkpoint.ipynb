{
 "cells": [
  {
   "cell_type": "code",
   "execution_count": null,
   "id": "d30aaf65",
   "metadata": {},
   "outputs": [],
   "source": [
    "from matcher import match\n",
    "print(match)\n",
    "\n"
   ]
  },
  {
   "cell_type": "code",
   "execution_count": 2,
   "id": "0fe5d68e",
   "metadata": {},
   "outputs": [
    {
     "ename": "NameError",
     "evalue": "name 'match' is not defined",
     "output_type": "error",
     "traceback": [
      "\u001b[1;31m---------------------------------------------------------------------------\u001b[0m",
      "\u001b[1;31mNameError\u001b[0m                                 Traceback (most recent call last)",
      "Cell \u001b[1;32mIn[2], line 5\u001b[0m\n\u001b[0;32m      2\u001b[0m db_folder \u001b[38;5;241m=\u001b[39m \u001b[38;5;124m\"\u001b[39m\u001b[38;5;124mdepth_maps\u001b[39m\u001b[38;5;124m\"\u001b[39m\n\u001b[0;32m      3\u001b[0m threshold \u001b[38;5;241m=\u001b[39m \u001b[38;5;241m0.9\u001b[39m\n\u001b[1;32m----> 5\u001b[0m results \u001b[38;5;241m=\u001b[39m match(query_img, db_folder, threshold)\n\u001b[0;32m      7\u001b[0m \u001b[38;5;28;01mif\u001b[39;00m results:\n\u001b[0;32m      8\u001b[0m     \u001b[38;5;28mprint\u001b[39m(\u001b[38;5;124m\"\u001b[39m\u001b[38;5;124mMatching images found:\u001b[39m\u001b[38;5;124m\"\u001b[39m)\n",
      "\u001b[1;31mNameError\u001b[0m: name 'match' is not defined"
     ]
    }
   ],
   "source": [
    "query_img = \"depth_maps/aman left.png\"\n",
    "db_folder = \"depth_maps\"\n",
    "threshold = 0.9\n",
    "\n",
    "results = match(query_img, db_folder, threshold)\n",
    "\n",
    "if results:\n",
    "    print(\"Matching images found:\")\n",
    "    for img, score in results:\n",
    "        print(f\"{img}: similarity = {score:.4f}\")\n",
    "else:\n",
    "    print(\"No good matches found.\")"
   ]
  },
  {
   "cell_type": "code",
   "execution_count": null,
   "id": "0502250d",
   "metadata": {},
   "outputs": [],
   "source": [
    "!jupyter nbconvert --to script example_use.ipynb"
   ]
  }
 ],
 "metadata": {
  "kernelspec": {
   "display_name": "Python 3 (ipykernel)",
   "language": "python",
   "name": "python3"
  },
  "language_info": {
   "codemirror_mode": {
    "name": "ipython",
    "version": 3
   },
   "file_extension": ".py",
   "mimetype": "text/x-python",
   "name": "python",
   "nbconvert_exporter": "python",
   "pygments_lexer": "ipython3",
   "version": "3.11.5"
  }
 },
 "nbformat": 4,
 "nbformat_minor": 5
}
